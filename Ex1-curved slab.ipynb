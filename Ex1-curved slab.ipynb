{
 "cells": [
  {
   "cell_type": "code",
   "execution_count": 1,
   "id": "9b50352a-cbbf-4b34-980f-500b86a21a4b",
   "metadata": {
    "scrolled": true
   },
   "outputs": [
    {
     "data": {
      "application/vnd.jupyter.widget-view+json": {
       "model_id": "307d95803d1745fab25e480cfe0778fa",
       "version_major": 2,
       "version_minor": 0
      },
      "text/plain": [
       "WebGuiWidget(layout=Layout(height='50vh', width='100%'), value={'gui_settings': {}, 'ngsolve_version': '6.2.23…"
      ]
     },
     "metadata": {},
     "output_type": "display_data"
    },
    {
     "data": {
      "text/plain": [
       "BaseWebGuiScene"
      ]
     },
     "execution_count": 1,
     "metadata": {},
     "output_type": "execute_result"
    }
   ],
   "source": [
    "from netgen.occ import *\n",
    "from ngsolve.meshes import MakeStructured3DMesh\n",
    "from ngsolve import *\n",
    "\n",
    "l = 200\n",
    "b = 40\n",
    "t = 10\n",
    "h = 1\n",
    "\n",
    "mesh = MakeStructured3DMesh(hexes=False,nx=40*h,ny=16*h,nz=2*h, mapping=lambda x,y,z : (-l+l*2*x,(-b+2*b*y)*(3-2*(-1+2*x)**2),t*z - 7*t*sin(2*(-1+2*x))), secondorder = True)\n",
    "\n",
    "from ngsolve.webgui import Draw\n",
    "\n",
    "Draw(mesh)"
   ]
  },
  {
   "cell_type": "code",
   "execution_count": 2,
   "id": "de9f097b-2799-4ac8-8105-f4a65777d08b",
   "metadata": {},
   "outputs": [],
   "source": [
    "# Projections\n",
    "n = specialcf.normal(mesh.dim)\n",
    "\n",
    "def Anti(vec):\n",
    "    return CF( (0, -vec[2], vec[1],\n",
    "                vec[2], 0, -vec[0],\n",
    "                -vec[1], vec[0], 0), dims = (3,3) ) \n",
    "\n",
    "def Dyad(v1, v2):\n",
    "    return CF( (v1[0]*v2[0], v1[0]*v2[1], v1[0]*v2[2],\n",
    "                v1[1]*v2[0], v1[1]*v2[1], v1[1]*v2[2],\n",
    "                v1[2]*v2[0], v1[2]*v2[1], v1[2]*v2[2]), dims = (3,3) ) \n",
    "\n",
    "Antin = Anti(n)\n",
    "Q = Dyad(n, n)\n",
    "P = Id(3) - Q\n",
    "\n",
    "# Weingarten tensor\n",
    "W = -Grad(n)*P"
   ]
  },
  {
   "cell_type": "code",
   "execution_count": 3,
   "id": "2eb0b8ce-ff42-4e4f-a838-339b8ab1f3a9",
   "metadata": {},
   "outputs": [],
   "source": [
    "# Volume material: silicone rubber \n",
    "mue = 0.34 \n",
    "muc = 1\n",
    "lame = 5.328 \n",
    "Lc = 10**-2\n",
    "\n",
    "def Ce(mat):\n",
    "    return 2*mue*mat + lame*Trace(mat)*Id(3)\n",
    "\n",
    "\n",
    "# Shell material: graphite 1.6 mm\n",
    "h = 1.6\n",
    "mues = 2122.64 \n",
    "lames = 289.451\n",
    "mucs = 10000\n",
    "\n",
    "\n",
    "# Plane stress\n",
    "lames = 2*lames*mues / (lames + 2*mues)\n",
    "\n",
    "\n",
    "def De(mat):\n",
    "    return 2*mues*mat + lames*Trace(mat)*P\n",
    "    \n",
    "\n",
    "muelca1 = 10867.9\n",
    "muelca2 = 122264\n",
    "muelca3 = 0\n",
    "\n",
    "\n",
    "def Vol(mat):\n",
    "    return (1/3) * Trace(mat) * Id(3) \n",
    "\n",
    "\n",
    "def Dev(mat):\n",
    "    return mat - Vol(mat)\n",
    "\n",
    "\n",
    "def L(mat):\n",
    "    return  muelca1 * Dev(Sym(mat)) + muelca2 * Skew(mat) + muelca3 * Vol(mat)\n",
    "\n",
    "\n",
    "uD = CF ( (0,0,0), dims = (3,1) )\n",
    "rD = CF ( (0,0,0), dims = (3,1) )\n",
    "\n",
    "q = 1e-6 * CF ( (0,0,-1), dims = (3,1) )\n",
    "m = CF ( (0,0,0), dims = (3,1) )"
   ]
  },
  {
   "cell_type": "code",
   "execution_count": 4,
   "id": "12754d17-cee4-454e-8742-0b4daa41c306",
   "metadata": {},
   "outputs": [],
   "source": [
    "order = 3\n",
    "fesHu = VectorH1(mesh, order=order, dirichlet=\"back|front\")\n",
    "fesHr = VectorH1(mesh, order=order) # , dirichlet=\"back|front\"\n",
    "\n",
    "fes = fesHu * fesHr\n",
    "\n",
    "(u, r), (du, dr) = fes.TnT()\n",
    "\n",
    "Dr = Grad(r)\n",
    "Du = Grad(u)\n",
    "\n",
    "Dtr = Dr.Trace() * P\n",
    "Dcovr = P * Dtr\n",
    "\n",
    "SymDu = Sym(Du)\n",
    "SkewDu = Skew(Du)\n",
    "\n",
    "Dtu = Grad(u).Trace() * P\n",
    "Dcovu = P * Dtu\n",
    "\n",
    "SymDcovu = Sym(Dcovu)  \n",
    "SkewDcovu = Skew(Dcovu)\n",
    "\n",
    "R = Anti(r)\n",
    "CurlR = Trace(Dr)*Id(3) - Dr.trans\n",
    "\n",
    "Rt = R * P\n",
    "Rcov = P * Rt\n",
    "\n",
    "CurltR = InnerProduct(Dr.Trace(), P)*Id(3) - P * Dr.Trace().trans"
   ]
  },
  {
   "cell_type": "code",
   "execution_count": 5,
   "id": "b855bd83-86c0-4dd3-9702-a5f696609410",
   "metadata": {},
   "outputs": [],
   "source": [
    "a = BilinearForm(fes, symmetric=True, symmetric_storage=True, condense=True)\n",
    "\n",
    "# Volume \n",
    "a += (Variation(0.5*(\n",
    "    InnerProduct(SymDu,Ce(SymDu)) \n",
    "    + 2*muc * InnerProduct(SkewDu - R, SkewDu - R)\n",
    "    + mue*Lc**2 * InnerProduct(CurlR, CurlR)\n",
    ")*dx))\n",
    "\n",
    "# Shell\n",
    "a += Variation(0.5*(\n",
    "    h * InnerProduct(SymDcovu,De(SymDcovu)) \n",
    "    + h * 2*mucs * InnerProduct(SkewDcovu - Rcov, SkewDcovu - Rcov)\n",
    "    + h * (mues + mucs) * InnerProduct(Q*(Dtu - Rt), Q*(Dtu - Rt))\n",
    "    + (h**3 / 12) * InnerProduct(Sym(Antin * Dcovr + P*R*W), De(Sym(Antin * Dcovr + P*R*W)))\n",
    "    + (h**3 / 12) * 2*mucs * InnerProduct(Skew(Antin * Dcovr + P*R*W), Skew(Antin * Dcovr + P*R*W))\n",
    "    + (h**3 / 12) * (mues + mucs) * InnerProduct(Q*R*W, Q*R*W) \n",
    "    + h * InnerProduct(CurltR, L(CurltR))\n",
    ")*ds(\"bottom\"))\n",
    "\n",
    "# Micro shell\n",
    "# a += Variation(0.5*(\n",
    "#     h * InnerProduct(SymDcovu,De(SymDcovu)) \n",
    "#     + h * 2*mucs * InnerProduct(SkewDcovu - Rcov, SkewDcovu - Rcov)\n",
    "#     + h * (mues + mucs) * InnerProduct(Q*(Dtu - Rt), Q*(Dtu - Rt))\n",
    "#     + h * InnerProduct(CurltR, L(CurltR))\n",
    "# )*ds(\"bottom\"))\n",
    " \n",
    "f = LinearForm(fes)\n",
    "f += (InnerProduct(du,q) + InnerProduct(dr,m))*dx\n",
    "\n",
    "sol = GridFunction(fes)"
   ]
  },
  {
   "cell_type": "code",
   "execution_count": 6,
   "id": "92df70c8-6b0c-4825-acd9-7d4342ebf5fe",
   "metadata": {},
   "outputs": [],
   "source": [
    "sol.vec[:] = 0\n",
    "\n",
    "sol.components[0].Set( uD )\n",
    "sol.components[1].Set( rD )\n",
    "\n",
    "v = sol.vec.CreateVector()\n",
    "w = sol.vec.CreateVector()"
   ]
  },
  {
   "cell_type": "code",
   "execution_count": 7,
   "id": "d0c7174c-9d5f-452e-9b3f-feab78eb7098",
   "metadata": {},
   "outputs": [],
   "source": [
    "with TaskManager():\n",
    "    f.Assemble()\n",
    "    a.AssembleLinearization(sol.vec)\n",
    "    inv = a.mat.Inverse(fes.FreeDofs(a.condense), inverse=\"pardiso\")\n",
    "\n",
    "    a.Apply(sol.vec, v)\n",
    "    \n",
    "    v.data -= f.vec\n",
    "    if a.condense:\n",
    "        v.data += a.harmonic_extension_trans * v\n",
    "    w.data = inv * v\n",
    "    if a.condense:\n",
    "        w.data += a.harmonic_extension * w\n",
    "        w.data += a.inner_solve * v\n",
    "    sol.vec.data -= w"
   ]
  },
  {
   "cell_type": "code",
   "execution_count": 8,
   "id": "38ce2cf2-24a6-43d7-bff5-0715e666d051",
   "metadata": {},
   "outputs": [
    {
     "data": {
      "application/vnd.jupyter.widget-view+json": {
       "model_id": "e82d450ea6274ba6bb1ad5ec01c82641",
       "version_major": 2,
       "version_minor": 0
      },
      "text/plain": [
       "WebGuiWidget(layout=Layout(height='50vh', width='100%'), value={'gui_settings': {}, 'ngsolve_version': '6.2.23…"
      ]
     },
     "metadata": {},
     "output_type": "display_data"
    },
    {
     "data": {
      "text/plain": [
       "BaseWebGuiScene"
      ]
     },
     "execution_count": 8,
     "metadata": {},
     "output_type": "execute_result"
    }
   ],
   "source": [
    "gfu, gfr = sol.components\n",
    "\n",
    "Draw(gfu, mesh, \"u\", deformation=True)\n",
    "# Draw(Norm(gfr), mesh, \"r\")"
   ]
  },
  {
   "cell_type": "code",
   "execution_count": 9,
   "id": "a7ff5bd4-95d7-4cac-b236-862a2e59efb7",
   "metadata": {},
   "outputs": [],
   "source": [
    "# vtk = VTKOutput(ma=mesh,\n",
    "#                 coefs=[gfu],\n",
    "#                 names = [\"displacement\"],\n",
    "#                 filename=\"disp-cosserat-microshell\",\n",
    "#                 subdivision=3)\n",
    "# # Exporting the results:\n",
    "# vtk.Do()"
   ]
  }
 ],
 "metadata": {
  "kernelspec": {
   "display_name": "Python 3 (ipykernel)",
   "language": "python",
   "name": "python3"
  },
  "language_info": {
   "codemirror_mode": {
    "name": "ipython",
    "version": 3
   },
   "file_extension": ".py",
   "mimetype": "text/x-python",
   "name": "python",
   "nbconvert_exporter": "python",
   "pygments_lexer": "ipython3",
   "version": "3.10.13"
  }
 },
 "nbformat": 4,
 "nbformat_minor": 5
}
