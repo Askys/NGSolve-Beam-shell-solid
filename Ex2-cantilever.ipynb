{
 "cells": [
  {
   "cell_type": "code",
   "execution_count": 1,
   "id": "b28b2421-f395-4458-8090-c1c9137611e0",
   "metadata": {},
   "outputs": [
    {
     "name": "stdout",
     "output_type": "stream",
     "text": [
      "['left1', None, None, None, 'bottom', None]\n",
      "['left2', None, None, None, None, None]\n",
      "6791\n"
     ]
    },
    {
     "data": {
      "application/vnd.jupyter.widget-view+json": {
       "model_id": "6039c7aee28e4ca69d13e71b179b0901",
       "version_major": 2,
       "version_minor": 0
      },
      "text/plain": [
       "WebGuiWidget(layout=Layout(height='50vh', width='100%'), value={'gui_settings': {}, 'ngsolve_version': '6.2.23…"
      ]
     },
     "metadata": {},
     "output_type": "display_data"
    },
    {
     "data": {
      "text/plain": [
       "BaseWebGuiScene"
      ]
     },
     "execution_count": 1,
     "metadata": {},
     "output_type": "execute_result"
    }
   ],
   "source": [
    "from netgen.occ import *\n",
    "\n",
    "cube1 = Box((-250,-50,5), (250,50,10))\n",
    "cube2 = Box((-250,-50,-5), (250,50,5))\n",
    "\n",
    "cube1.faces.Min(Z).name = \"bottom\"\n",
    "cube1.faces.Min(X).name = \"left1\"\n",
    "cube2.faces.Min(X).name = \"left2\"\n",
    "cube1.faces[\"bottom\"].edges.Min(Y).name = \"front\"\n",
    "cube1.faces[\"bottom\"].edges.Max(Y).name = \"back\"\n",
    "print([s.name for s in cube1.faces.faces])\n",
    "print([s.name for s in cube2.faces.faces])\n",
    "\n",
    "cube = Glue([cube1,cube2])\n",
    "\n",
    "netmesh = OCCGeometry(cube).GenerateMesh(maxh=10) #/1.975\n",
    "\n",
    "from ngsolve import *\n",
    "from ngsolve.webgui import Draw\n",
    "\n",
    "mesh = Mesh(netmesh)\n",
    "\n",
    "print(mesh.ne)\n",
    "\n",
    "Draw (mesh)"
   ]
  },
  {
   "cell_type": "code",
   "execution_count": 2,
   "id": "6f38dfed-819e-4c26-bf42-38cd8a4039f4",
   "metadata": {},
   "outputs": [],
   "source": [
    "# Plate projections\n",
    "n = specialcf.normal(mesh.dim)\n",
    "\n",
    "def Anti(vec):\n",
    "    return CF( (0, -vec[2], vec[1],\n",
    "                vec[2], 0, -vec[0],\n",
    "                -vec[1], vec[0], 0), dims = (3,3) ) \n",
    "\n",
    "def Dyad(v1, v2):\n",
    "    return CF( (v1[0]*v2[0], v1[0]*v2[1], v1[0]*v2[2],\n",
    "                v1[1]*v2[0], v1[1]*v2[1], v1[1]*v2[2],\n",
    "                v1[2]*v2[0], v1[2]*v2[1], v1[2]*v2[2]), dims = (3,3) ) \n",
    "\n",
    "Antin = Anti(n)\n",
    "Q = Dyad(n, n)\n",
    "P = Id(3) - Q\n",
    "\n",
    "# Beam projections\n",
    "t = CF ( (1, 0, 0), dims = (3,1) )\n",
    "d2 = CF( (0, 1, 0), dims = (3,1) )\n",
    "d3 = CF( (0, 0, 1), dims = (3,1) )\n",
    "\n",
    "T = Dyad(t,t)\n",
    "O = Id(3) - T\n",
    "\n",
    "Antid2 = Anti(d2)\n",
    "Antid3 = Anti(d3)"
   ]
  },
  {
   "cell_type": "code",
   "execution_count": 3,
   "id": "9a6674b1-7a83-4408-a34e-27d8dc524abd",
   "metadata": {},
   "outputs": [],
   "source": [
    "# Volume coefficients (organic tissue) \n",
    "mue = 30 \n",
    "muc = 1\n",
    "lame = 98.5 \n",
    "Lc = 10**-2\n",
    "\n",
    "def Ce(mat):\n",
    "    return 2*mue*mat + lame*Trace(mat)*Id(3)\n",
    "\n",
    "\n",
    "# Shell coefficients (bone)\n",
    "h = 1.6\n",
    "mues = 2122.64 \n",
    "lames = 289.451\n",
    "mucs = 10000\n",
    "\n",
    "\n",
    "# Beam coefficients (bone)\n",
    "Ee = mues * ( 3*lames + 2 *mues ) / (lames + mues)\n",
    "A = pi * 0.8**2\n",
    "I = 0.25 * pi * 0.8**4\n",
    "\n",
    "\n",
    "# Plane stress\n",
    "lamess = 2*lames*mues / (lames + 2*mues)\n",
    "\n",
    "\n",
    "def De(mat):\n",
    "    return 2*mues*mat + lamess*Trace(mat)*P\n",
    "    \n",
    "\n",
    "muelca1 = 10867.9\n",
    "muelca2 = 122264\n",
    "muelca3 = 0\n",
    "\n",
    "\n",
    "def Vol(mat):\n",
    "    return (1/3) * Trace(mat) * Id(3) \n",
    "\n",
    "\n",
    "def Dev(mat):\n",
    "    return mat - Vol(mat)\n",
    "\n",
    "\n",
    "def L(mat):\n",
    "    return  muelca1 * Dev(Sym(mat)) + muelca2 * Skew(mat) + muelca3 * Vol(mat)\n",
    "\n",
    "uD = CF ( (0,0,0), dims = (3,1) )\n",
    "rD = CF ( (0,0,0), dims = (3,1) )\n",
    "\n",
    "q = 1e-5 * CF ( (0,0,-1), dims = (3,1) )\n",
    "m = CF ( (0,0,0), dims = (3,1) )"
   ]
  },
  {
   "cell_type": "code",
   "execution_count": 4,
   "id": "ee3579b2-7736-42e4-9b90-4ae4ebd54fa7",
   "metadata": {},
   "outputs": [],
   "source": [
    "order = 2\n",
    "fesH = H1(mesh, order=order, dirichlet=\"left1|left2\")\n",
    "fesR = H1(mesh, order=order+1)\n",
    "fes = fesH * fesH * fesH * fesR * fesR * fesR\n",
    "\n",
    "(u1,u2,u3,r1,r2,r3), (du1,du2,du3,dr1,dr2,dr3) = fes.TnT()"
   ]
  },
  {
   "cell_type": "code",
   "execution_count": 5,
   "id": "d5e8a8bd-76cb-4a7c-9b0b-df85520695ab",
   "metadata": {},
   "outputs": [],
   "source": [
    "# Volume entities\n",
    "u = CF( (u1,u2,u3), dims = (3,1) )\n",
    "du = CF( (du1,du2,du3), dims = (3,1) )\n",
    "\n",
    "r = CF( (r1,r2,r3), dims = (3,1) )\n",
    "dr = CF( (dr1,dr2,dr3), dims = (3,1) )\n",
    "\n",
    "Du = CF ( (grad(u1), grad(u2), grad(u3)), dims = (3,3) ) \n",
    "Dr = CF ( (grad(r1), grad(r2), grad(r3)), dims = (3,3) ) \n",
    "\n",
    "SymDu = Sym(Du)\n",
    "SkewDu = Skew(Du)\n",
    "\n",
    "R = Anti(r)\n",
    "CurlR = Trace(Dr)*Id(3) - Dr.trans"
   ]
  },
  {
   "cell_type": "code",
   "execution_count": 6,
   "id": "0f94c79c-71d9-45d8-afc5-a2c811e4485e",
   "metadata": {},
   "outputs": [],
   "source": [
    "# Plate entities\n",
    "Dtu = CF ( (grad(u1).Trace(), grad(u2).Trace(), grad(u3).Trace()), dims = (3,3) )  * P\n",
    "Dtr = CF ( (grad(r1).Trace(), grad(r2).Trace(), grad(r3).Trace()), dims = (3,3) )  * P \n",
    "\n",
    "Dtcovu = P * Dtu\n",
    "Dtcovr = P * Dtr\n",
    "\n",
    "SymDtcovu = Sym(Dtcovu)  \n",
    "SkewDtcovu = Skew(Dtcovu)  \n",
    "\n",
    "Rt = R * P\n",
    "Rtcov = P * Rt\n",
    "\n",
    "CurltR = InnerProduct(Dtr, P)*Id(3) - P * Dtr.trans"
   ]
  },
  {
   "cell_type": "code",
   "execution_count": 7,
   "id": "c5d6e9c2-5176-453f-988d-3aba6bab548b",
   "metadata": {},
   "outputs": [],
   "source": [
    "# Beam entities\n",
    "Dttu = CF ( (grad(u1).Trace().Trace(), grad(u2).Trace().Trace(), grad(u3).Trace().Trace()), dims = (3,3) )  * T\n",
    "Dttr = CF ( (grad(r1).Trace().Trace(), grad(r2).Trace().Trace(), grad(r3).Trace().Trace()), dims = (3,3) )  * T  \n",
    "\n",
    "Dttcovu = T * Dttu\n",
    "Dttcovr = T * Dttr\n",
    "\n",
    "SymDttcovu = Sym(Dttcovu)  \n",
    "\n",
    "Rtt = R * T\n",
    "Rttcov = T * Rt\n",
    "\n",
    "CurlttR = InnerProduct(Dttr, P)*Id(3) - P * Dttr.trans"
   ]
  },
  {
   "cell_type": "code",
   "execution_count": 8,
   "id": "7c4b41ec-474f-4314-96be-45b606434682",
   "metadata": {},
   "outputs": [],
   "source": [
    "a = BilinearForm(fes, symmetric=True, symmetric_storage=True, condense=True)\n",
    "\n",
    "# Volume \n",
    "a += (Variation(0.5*(\n",
    "    InnerProduct(SymDu,Ce(SymDu)) \n",
    "    + 2*muc * InnerProduct(SkewDu - R, SkewDu - R)\n",
    "    + mue*Lc**2 * InnerProduct(CurlR, CurlR)\n",
    ")*dx))\n",
    "\n",
    "# Plate\n",
    "# a += Variation(0.5*(\n",
    "#     h * InnerProduct(SymDtcovu,De(SymDtcovu)) \n",
    "#     + h * 2*mucs * InnerProduct(SkewDtcovu - Rtcov, SkewDtcovu - Rtcov)\n",
    "#     + h * (mues + mucs) * InnerProduct(Q*(Dtu - Rt), Q*(Dtu - Rt))\n",
    "#     + (h**3 / 12) * InnerProduct(Sym(Antin * Dtcovr), De(Sym(Antin * Dtcovr)))\n",
    "#     + (h**3 / 12) * 2*mucs * InnerProduct(Skew(Antin * Dtcovr), Skew(Antin * Dtcovr)) \n",
    "#     + h * InnerProduct(CurltR, L(CurltR))\n",
    "# )*ds(\"bottom\"))\n",
    "\n",
    "# beam\n",
    "a += Variation(0.5*(\n",
    "    Ee*A * InnerProduct(SymDttcovu, SymDttcovu) \n",
    "    + Ee*I * InnerProduct(Sym(P * Antid2 * Dttr), Sym(P * Antid2 * Dttr)) \n",
    "    + Ee*I * InnerProduct(Sym(P * Antid3 * Dttr), Sym(P * Antid3 * Dttr))\n",
    "    + (mues + mucs)*A * InnerProduct(O*(Dttr - Rtt), O*(Dttr - Rtt))\n",
    "    + (mues + mucs)*I * InnerProduct(O*Antid2*Dttr, O*Antid2*Dttr)\n",
    "    + (mues + mucs)*I * InnerProduct(O*Antid3*Dttr, O*Antid3*Dttr)\n",
    "    + A * InnerProduct(CurlttR, L(CurlttR))\n",
    ")*dx(mesh.BBoundaries(\"front|back\")))\n",
    "\n",
    "f = LinearForm(fes)\n",
    "f += (InnerProduct(du,q) + InnerProduct(dr,m))*dx"
   ]
  },
  {
   "cell_type": "code",
   "execution_count": 9,
   "id": "471699ff-bcc0-4e3f-8016-d47fa39556c5",
   "metadata": {},
   "outputs": [],
   "source": [
    "sol = GridFunction(fes)\n",
    "\n",
    "sol.vec[:] = 0\n",
    "\n",
    "v = sol.vec.CreateVector()\n",
    "w = sol.vec.CreateVector()"
   ]
  },
  {
   "cell_type": "code",
   "execution_count": 10,
   "id": "0c2a737a-e2cf-453a-bafe-e306b30fff12",
   "metadata": {},
   "outputs": [],
   "source": [
    "with TaskManager():\n",
    "    f.Assemble()\n",
    "    a.AssembleLinearization(sol.vec)\n",
    "    inv = a.mat.Inverse(fes.FreeDofs(a.condense), inverse=\"pardiso\")\n",
    "\n",
    "    a.Apply(sol.vec, v)\n",
    "    \n",
    "    v.data -= f.vec\n",
    "    if a.condense:\n",
    "        v.data += a.harmonic_extension_trans * v\n",
    "    w.data = inv * v\n",
    "    if a.condense:\n",
    "        w.data += a.harmonic_extension * w\n",
    "        w.data += a.inner_solve * v\n",
    "    sol.vec.data -= w"
   ]
  },
  {
   "cell_type": "code",
   "execution_count": 11,
   "id": "fa7cc6e9-9f2b-4e36-9655-8646ab7c7e9a",
   "metadata": {},
   "outputs": [
    {
     "data": {
      "application/vnd.jupyter.widget-view+json": {
       "model_id": "7a0f972777bd4f7fb9459c8421d98f81",
       "version_major": 2,
       "version_minor": 0
      },
      "text/plain": [
       "WebGuiWidget(layout=Layout(height='50vh', width='100%'), value={'gui_settings': {}, 'ngsolve_version': '6.2.23…"
      ]
     },
     "metadata": {},
     "output_type": "display_data"
    },
    {
     "data": {
      "text/plain": [
       "BaseWebGuiScene"
      ]
     },
     "execution_count": 11,
     "metadata": {},
     "output_type": "execute_result"
    }
   ],
   "source": [
    "gfu1,gfu2,gfu3, gfr1,gfr2,gfr3 = sol.components\n",
    "\n",
    "gfu = CF( (gfu1,gfu2,gfu3), dims = (3,1) )\n",
    "\n",
    "Draw(gfu, mesh, \"u\", deformation=True)\n",
    "# Draw(Norm(gfr), mesh, \"r\")"
   ]
  },
  {
   "cell_type": "code",
   "execution_count": 12,
   "id": "cce7f97f-111e-4c1a-812c-4eaa2a36c522",
   "metadata": {},
   "outputs": [],
   "source": [
    "# vtk = VTKOutput(ma=mesh,\n",
    "#                 coefs=[gfu],\n",
    "#                 names = [\"displacement\"],\n",
    "#                 filename=\"cantilever-mesh\",\n",
    "#                 subdivision=0)\n",
    "# # Exporting the results:\n",
    "# vtk.Do()"
   ]
  }
 ],
 "metadata": {
  "kernelspec": {
   "display_name": "Python 3 (ipykernel)",
   "language": "python",
   "name": "python3"
  },
  "language_info": {
   "codemirror_mode": {
    "name": "ipython",
    "version": 3
   },
   "file_extension": ".py",
   "mimetype": "text/x-python",
   "name": "python",
   "nbconvert_exporter": "python",
   "pygments_lexer": "ipython3",
   "version": "3.10.13"
  }
 },
 "nbformat": 4,
 "nbformat_minor": 5
}
